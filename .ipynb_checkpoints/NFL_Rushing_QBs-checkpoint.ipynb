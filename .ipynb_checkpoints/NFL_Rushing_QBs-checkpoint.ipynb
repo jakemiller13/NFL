{
 "cells": [
  {
   "cell_type": "markdown",
   "metadata": {},
   "source": [
    "### Question: Do rushing/scrambling quarter backs have shorter careers than pocket passers?"
   ]
  },
  {
   "cell_type": "markdown",
   "metadata": {},
   "source": [
    "Standard math package and plotting imports:"
   ]
  },
  {
   "cell_type": "code",
   "execution_count": 1,
   "metadata": {},
   "outputs": [],
   "source": [
    "import math\n",
    "import pandas as pd\n",
    "import numpy as np\n",
    "import matplotlib.pyplot as plt"
   ]
  },
  {
   "cell_type": "markdown",
   "metadata": {},
   "source": [
    "Load in our data:"
   ]
  },
  {
   "cell_type": "code",
   "execution_count": 2,
   "metadata": {},
   "outputs": [],
   "source": [
    "df = pd.read_csv('U:\\\\Python\\\\NFL\\\\qb_rushing.csv')"
   ]
  },
  {
   "cell_type": "markdown",
   "metadata": {},
   "source": [
    "Look at top 10 QBs, ordered by total rushing yards:"
   ]
  },
  {
   "cell_type": "code",
   "execution_count": 3,
   "metadata": {},
   "outputs": [
    {
     "data": {
      "text/html": [
       "<div>\n",
       "<style scoped>\n",
       "    .dataframe tbody tr th:only-of-type {\n",
       "        vertical-align: middle;\n",
       "    }\n",
       "\n",
       "    .dataframe tbody tr th {\n",
       "        vertical-align: top;\n",
       "    }\n",
       "\n",
       "    .dataframe thead th {\n",
       "        text-align: right;\n",
       "    }\n",
       "</style>\n",
       "<table border=\"1\" class=\"dataframe\">\n",
       "  <thead>\n",
       "    <tr style=\"text-align: right;\">\n",
       "      <th></th>\n",
       "      <th>player</th>\n",
       "      <th>first_year</th>\n",
       "      <th>last_year</th>\n",
       "      <th>draft</th>\n",
       "      <th>team</th>\n",
       "      <th>league</th>\n",
       "      <th>games_played</th>\n",
       "      <th>games_started</th>\n",
       "      <th>rushing_attempts</th>\n",
       "      <th>total_yards</th>\n",
       "      <th>yards_per_attempt</th>\n",
       "      <th>rushing_td</th>\n",
       "      <th>yards_per_game</th>\n",
       "    </tr>\n",
       "    <tr>\n",
       "      <th>player_rank</th>\n",
       "      <th></th>\n",
       "      <th></th>\n",
       "      <th></th>\n",
       "      <th></th>\n",
       "      <th></th>\n",
       "      <th></th>\n",
       "      <th></th>\n",
       "      <th></th>\n",
       "      <th></th>\n",
       "      <th></th>\n",
       "      <th></th>\n",
       "      <th></th>\n",
       "      <th></th>\n",
       "    </tr>\n",
       "  </thead>\n",
       "  <tbody>\n",
       "    <tr>\n",
       "      <th>1</th>\n",
       "      <td>Michael Vick</td>\n",
       "      <td>2001</td>\n",
       "      <td>2015</td>\n",
       "      <td>1-1</td>\n",
       "      <td>TOT</td>\n",
       "      <td>NFL</td>\n",
       "      <td>143.0</td>\n",
       "      <td>115.0</td>\n",
       "      <td>873</td>\n",
       "      <td>6109</td>\n",
       "      <td>7.00</td>\n",
       "      <td>36</td>\n",
       "      <td>42.7</td>\n",
       "    </tr>\n",
       "    <tr>\n",
       "      <th>2</th>\n",
       "      <td>Randall Cunningham</td>\n",
       "      <td>1985</td>\n",
       "      <td>2001</td>\n",
       "      <td>2-37</td>\n",
       "      <td>TOT</td>\n",
       "      <td>NFL</td>\n",
       "      <td>161.0</td>\n",
       "      <td>135.0</td>\n",
       "      <td>775</td>\n",
       "      <td>4928</td>\n",
       "      <td>6.36</td>\n",
       "      <td>35</td>\n",
       "      <td>30.6</td>\n",
       "    </tr>\n",
       "    <tr>\n",
       "      <th>3</th>\n",
       "      <td>Cam Newton</td>\n",
       "      <td>2011</td>\n",
       "      <td>2019</td>\n",
       "      <td>1-1</td>\n",
       "      <td>CAR</td>\n",
       "      <td>NFL</td>\n",
       "      <td>125.0</td>\n",
       "      <td>124.0</td>\n",
       "      <td>934</td>\n",
       "      <td>4806</td>\n",
       "      <td>5.15</td>\n",
       "      <td>58</td>\n",
       "      <td>38.4</td>\n",
       "    </tr>\n",
       "    <tr>\n",
       "      <th>4</th>\n",
       "      <td>Tom Matte</td>\n",
       "      <td>1961</td>\n",
       "      <td>1972</td>\n",
       "      <td>1-7 5-37AFL</td>\n",
       "      <td>CLT</td>\n",
       "      <td>NFL</td>\n",
       "      <td>142.0</td>\n",
       "      <td>91.0</td>\n",
       "      <td>1200</td>\n",
       "      <td>4646</td>\n",
       "      <td>3.87</td>\n",
       "      <td>45</td>\n",
       "      <td>32.7</td>\n",
       "    </tr>\n",
       "    <tr>\n",
       "      <th>5</th>\n",
       "      <td>Steve Young</td>\n",
       "      <td>1985</td>\n",
       "      <td>1999</td>\n",
       "      <td>1-1</td>\n",
       "      <td>TOT</td>\n",
       "      <td>NFL</td>\n",
       "      <td>169.0</td>\n",
       "      <td>143.0</td>\n",
       "      <td>722</td>\n",
       "      <td>4239</td>\n",
       "      <td>5.87</td>\n",
       "      <td>43</td>\n",
       "      <td>25.1</td>\n",
       "    </tr>\n",
       "    <tr>\n",
       "      <th>6</th>\n",
       "      <td>Russell Wilson</td>\n",
       "      <td>2012</td>\n",
       "      <td>2019</td>\n",
       "      <td>3-75</td>\n",
       "      <td>SEA</td>\n",
       "      <td>NFL</td>\n",
       "      <td>123.0</td>\n",
       "      <td>123.0</td>\n",
       "      <td>698</td>\n",
       "      <td>3922</td>\n",
       "      <td>5.62</td>\n",
       "      <td>19</td>\n",
       "      <td>31.9</td>\n",
       "    </tr>\n",
       "    <tr>\n",
       "      <th>7</th>\n",
       "      <td>Fran Tarkenton</td>\n",
       "      <td>1961</td>\n",
       "      <td>1978</td>\n",
       "      <td>3-29 5-34AFL</td>\n",
       "      <td>TOT</td>\n",
       "      <td>NFL</td>\n",
       "      <td>246.0</td>\n",
       "      <td>239.0</td>\n",
       "      <td>675</td>\n",
       "      <td>3674</td>\n",
       "      <td>5.44</td>\n",
       "      <td>32</td>\n",
       "      <td>14.9</td>\n",
       "    </tr>\n",
       "    <tr>\n",
       "      <th>8</th>\n",
       "      <td>Steve McNair</td>\n",
       "      <td>1995</td>\n",
       "      <td>2007</td>\n",
       "      <td>1-3</td>\n",
       "      <td>TOT</td>\n",
       "      <td>NFL</td>\n",
       "      <td>161.0</td>\n",
       "      <td>153.0</td>\n",
       "      <td>669</td>\n",
       "      <td>3590</td>\n",
       "      <td>5.37</td>\n",
       "      <td>37</td>\n",
       "      <td>22.3</td>\n",
       "    </tr>\n",
       "    <tr>\n",
       "      <th>9</th>\n",
       "      <td>Charley Trippi</td>\n",
       "      <td>1947</td>\n",
       "      <td>1955</td>\n",
       "      <td>1-1</td>\n",
       "      <td>CRD</td>\n",
       "      <td>NFL</td>\n",
       "      <td>99.0</td>\n",
       "      <td>76.0</td>\n",
       "      <td>687</td>\n",
       "      <td>3506</td>\n",
       "      <td>5.10</td>\n",
       "      <td>23</td>\n",
       "      <td>35.4</td>\n",
       "    </tr>\n",
       "    <tr>\n",
       "      <th>10</th>\n",
       "      <td>Donovan McNabb</td>\n",
       "      <td>1999</td>\n",
       "      <td>2011</td>\n",
       "      <td>1-2</td>\n",
       "      <td>TOT</td>\n",
       "      <td>NFL</td>\n",
       "      <td>167.0</td>\n",
       "      <td>161.0</td>\n",
       "      <td>616</td>\n",
       "      <td>3459</td>\n",
       "      <td>5.62</td>\n",
       "      <td>29</td>\n",
       "      <td>20.7</td>\n",
       "    </tr>\n",
       "  </tbody>\n",
       "</table>\n",
       "</div>"
      ],
      "text/plain": [
       "                         player  first_year  last_year         draft team  \\\n",
       "player_rank                                                                 \n",
       "1                  Michael Vick        2001       2015           1-1  TOT   \n",
       "2            Randall Cunningham        1985       2001          2-37  TOT   \n",
       "3                    Cam Newton        2011       2019           1-1  CAR   \n",
       "4                     Tom Matte        1961       1972   1-7 5-37AFL  CLT   \n",
       "5                   Steve Young        1985       1999           1-1  TOT   \n",
       "6                Russell Wilson        2012       2019          3-75  SEA   \n",
       "7                Fran Tarkenton        1961       1978  3-29 5-34AFL  TOT   \n",
       "8                  Steve McNair        1995       2007           1-3  TOT   \n",
       "9                Charley Trippi        1947       1955           1-1  CRD   \n",
       "10               Donovan McNabb        1999       2011           1-2  TOT   \n",
       "\n",
       "            league  games_played  games_started  rushing_attempts  \\\n",
       "player_rank                                                         \n",
       "1              NFL         143.0          115.0               873   \n",
       "2              NFL         161.0          135.0               775   \n",
       "3              NFL         125.0          124.0               934   \n",
       "4              NFL         142.0           91.0              1200   \n",
       "5              NFL         169.0          143.0               722   \n",
       "6              NFL         123.0          123.0               698   \n",
       "7              NFL         246.0          239.0               675   \n",
       "8              NFL         161.0          153.0               669   \n",
       "9              NFL          99.0           76.0               687   \n",
       "10             NFL         167.0          161.0               616   \n",
       "\n",
       "             total_yards  yards_per_attempt  rushing_td  yards_per_game  \n",
       "player_rank                                                              \n",
       "1                   6109               7.00          36            42.7  \n",
       "2                   4928               6.36          35            30.6  \n",
       "3                   4806               5.15          58            38.4  \n",
       "4                   4646               3.87          45            32.7  \n",
       "5                   4239               5.87          43            25.1  \n",
       "6                   3922               5.62          19            31.9  \n",
       "7                   3674               5.44          32            14.9  \n",
       "8                   3590               5.37          37            22.3  \n",
       "9                   3506               5.10          23            35.4  \n",
       "10                  3459               5.62          29            20.7  "
      ]
     },
     "execution_count": 3,
     "metadata": {},
     "output_type": "execute_result"
    }
   ],
   "source": [
    "df = df.set_index('player_rank').sort_index()\n",
    "df.head(10)"
   ]
  },
  {
   "cell_type": "code",
   "execution_count": 4,
   "metadata": {},
   "outputs": [
    {
     "name": "stdout",
     "output_type": "stream",
     "text": [
      "Total QBs: 985\n"
     ]
    }
   ],
   "source": [
    "print('Total QBs: {}'.format(df.shape[0]))"
   ]
  },
  {
   "cell_type": "markdown",
   "metadata": {},
   "source": [
    "Cut down list to only QBs who were in the league for at least 1 year, started 10+ games, since the 1966-67 season (first Super Bowl):"
   ]
  },
  {
   "cell_type": "code",
   "execution_count": 5,
   "metadata": {},
   "outputs": [
    {
     "name": "stdout",
     "output_type": "stream",
     "text": [
      "QBs who played >1 year, started 10+ games, since 1966-67 season: 320\n"
     ]
    }
   ],
   "source": [
    "df = df[(df['first_year'] < df['last_year']) &\n",
    "        (df['games_started'] >= 10) &\n",
    "        (df['first_year'] > 1966)]\n",
    "print('QBs who played >1 year, started 10+ games, since 1966-67 season: {}'\\\n",
    "      .format(df.shape[0]))"
   ]
  },
  {
   "cell_type": "markdown",
   "metadata": {},
   "source": [
    "Look at summary statistics for games played, games started, rushing attempts and yards per attempt for these 320 QBs. Note the average career of these QBs was ~88 games and 3.5 rushing yards per attempt:"
   ]
  },
  {
   "cell_type": "code",
   "execution_count": 6,
   "metadata": {},
   "outputs": [
    {
     "name": "stdout",
     "output_type": "stream",
     "text": [
      "       games_played  games_started  rushing_attempts  yards_per_attempt\n",
      "count    320.000000     320.000000        320.000000         320.000000\n",
      "mean      87.793750      65.984375        183.625000           3.475625\n",
      "std       59.252194      58.508658        165.786555           1.560323\n",
      "min       12.000000      10.000000         10.000000          -0.030000\n",
      "25%       38.000000      20.000000         59.750000           2.330000\n",
      "50%       73.000000      44.000000        129.500000           3.470000\n",
      "75%      125.000000      97.250000        248.000000           4.595000\n",
      "max      302.000000     298.000000        934.000000           7.250000\n"
     ]
    }
   ],
   "source": [
    "categories = ['games_played', 'games_started', 'rushing_attempts',\n",
    "              'yards_per_attempt']\n",
    "print(df[categories].describe())\n",
    "quantiles = [0.25, 0.5, 0.75]\n",
    "gp_quant = np.quantile(df['games_played'], quantiles)\n",
    "ra_quant = np.quantile(df['rushing_attempts'], quantiles)\n",
    "ypa_quant = np.nanquantile(df['yards_per_attempt'], quantiles)"
   ]
  },
  {
   "cell_type": "markdown",
   "metadata": {},
   "source": [
    "Plot a histogram of games played per QB. Each bin in histogram represents 10 games:"
   ]
  },
  {
   "cell_type": "code",
   "execution_count": 7,
   "metadata": {},
   "outputs": [
    {
     "data": {
      "image/png": "[encoded data removed]",
      "text/plain": [
       "<Figure size 576x576 with 1 Axes>"
      ]
     },
     "metadata": {
      "needs_background": "light"
     },
     "output_type": "display_data"
    }
   ],
   "source": [
    "games_max = int(max(df['games_played']))\n",
    "games_mean = round(df['games_played'].mean(), 1)\n",
    "games_median = df['games_played'].median()\n",
    "\n",
    "# Histogram of games played\n",
    "plt.figure(figsize = (8, 8))\n",
    "plt.hist(df['games_played'], [i for i in range(0, games_max, 10)])\n",
    "plt.axvline(games_median,\n",
    "            color = 'red',\n",
    "            label = 'Median [{}]'.format(games_median))\n",
    "plt.axvline(games_mean,\n",
    "            color = 'black',\n",
    "            label = 'Mean [{}]'.format(games_mean))\n",
    "plt.title('Games Played per QB (1 bin = 10 games)')\n",
    "plt.xlabel('Games Played')\n",
    "plt.ylabel('Count')\n",
    "plt.xlim(0, 10 * math.floor(games_max/10))\n",
    "plt.grid(which = 'major')\n",
    "plt.legend(loc = 'best')\n",
    "plt.show()"
   ]
  },
  {
   "cell_type": "markdown",
   "metadata": {},
   "source": [
    "Histogram of rushing attempts per QB. Each bin represents 25 rushing attempts:"
   ]
  },
  {
   "cell_type": "code",
   "execution_count": 8,
   "metadata": {},
   "outputs": [
    {
     "data": {
      "image/png": "[encoded data removed]",
      "text/plain": [
       "<Figure size 576x576 with 1 Axes>"
      ]
     },
     "metadata": {
      "needs_background": "light"
     },
     "output_type": "display_data"
    }
   ],
   "source": [
    "attempts_max = int(max(df['rushing_attempts']))\n",
    "attempts_mean = round(df['rushing_attempts'].mean(), 1)\n",
    "attempts_median = round(df['rushing_attempts'].median(), 1)\n",
    "\n",
    "# Histogram of rushing attempts\n",
    "plt.figure(figsize = (8, 8))\n",
    "plt.hist(df['rushing_attempts'], [i for i in range(0, attempts_max, 25)])\n",
    "plt.axvline(attempts_median,\n",
    "            color = 'red',\n",
    "            label = 'Median [{}]'.format(attempts_median))\n",
    "plt.axvline(attempts_mean,\n",
    "            color = 'black',\n",
    "            label = 'Mean [{}]'.format(attempts_mean))\n",
    "plt.xlim(0, 1200)\n",
    "plt.title('Rushing Attempts (1 bin = 25 attempts)')\n",
    "plt.xlabel('Attempts')\n",
    "plt.ylabel('Count')\n",
    "plt.grid(which = 'major')\n",
    "plt.legend(loc = 'best')\n",
    "plt.show()"
   ]
  },
  {
   "cell_type": "markdown",
   "metadata": {},
   "source": [
    "Histogram of rushing yards per attempt. Each bin represents 1 yard:"
   ]
  },
  {
   "cell_type": "code",
   "execution_count": 9,
   "metadata": {},
   "outputs": [
    {
     "data": {
      "image/png": "[encoded data removed]",
      "text/plain": [
       "<Figure size 576x576 with 1 Axes>"
      ]
     },
     "metadata": {
      "needs_background": "light"
     },
     "output_type": "display_data"
    }
   ],
   "source": [
    "yards_max = int(max(df['yards_per_attempt']))\n",
    "yards_mean = round(df['yards_per_attempt'].mean(), 1)\n",
    "yards_median = round(df['yards_per_attempt'].median(), 1)\n",
    "\n",
    "# Histogram of yards per attempt\n",
    "plt.figure(figsize = (8, 8))\n",
    "plt.hist(df['yards_per_attempt'], bins = [i for i in range(-2, 11)])\n",
    "plt.axvline(yards_median,\n",
    "            color = 'red',\n",
    "            label = 'Median [{}]'.format(yards_median))\n",
    "plt.axvline(yards_mean,\n",
    "            color = 'black',\n",
    "            label = 'Mean [{}]'.format(yards_mean))\n",
    "plt.xlim(-2, 10)\n",
    "plt.title('Rushing Yards per Attempt (1 bin = 1 yard)')\n",
    "plt.xlabel('Yards per Attempt')\n",
    "plt.ylabel('Count')\n",
    "plt.grid(which = 'major')\n",
    "plt.legend(loc = 'best')\n",
    "plt.show()"
   ]
  },
  {
   "cell_type": "markdown",
   "metadata": {},
   "source": [
    "First, look at career length of top 25% vs bottom 25% of QBs based on rushing attempts. This is interesting, but doesn't actually give us much information to go on since longer careers equals more rushing opportunities."
   ]
  },
  {
   "cell_type": "code",
   "execution_count": 10,
   "metadata": {},
   "outputs": [
    {
     "name": "stdout",
     "output_type": "stream",
     "text": [
      "Mean games played of top 25% of QBs [count: 79] based on rushing attempts: 156.4\n",
      "Mean games played of bottom 25% of QBs [count: 80] based on rushing attempts: 41.5\n"
     ]
    }
   ],
   "source": [
    "att_top25 = df[df['rushing_attempts'] > ra_quant[2]]\n",
    "att_bot25 = df[df['rushing_attempts'] < ra_quant[0]]\n",
    "att_top25_mean_games = round(att_top25['games_played'].mean(), 1)\n",
    "att_top25_median_games = round(att_top25['games_played'].median(), 1)\n",
    "att_bot25_mean_games = round(att_bot25['games_played'].mean(), 1)\n",
    "att_bot25_median_games = round(att_bot25['games_played'].median(), 1)\n",
    "print('Mean games played of top 25% of QBs [count: {}] based on rushing '\n",
    "      'attempts: {}'.format(att_top25.shape[0], att_top25_mean_games))\n",
    "print('Mean games played of bottom 25% of QBs [count: {}] based on rushing '\n",
    "      'attempts: {}'.format(att_bot25.shape[0], att_bot25_mean_games))"
   ]
  },
  {
   "cell_type": "markdown",
   "metadata": {},
   "source": [
    "Instead, it's more insightful to look at yards per rushing attempt. Here I compare the length of careers of the top 25% of QBs - based on career yards per attempt - to the bottom 25%. QBs in the bottom quartile for rushing yards per attempt have an average career length of 11 more games (more than half a season) than the bottom 25%."
   ]
  },
  {
   "cell_type": "code",
   "execution_count": 11,
   "metadata": {},
   "outputs": [
    {
     "name": "stdout",
     "output_type": "stream",
     "text": [
      "Mean games played, top 25% of QBs [count: 80] based on yards per attempt: \n",
      "---> 84.2 <---\n",
      "Mean games played, bottom 25% of QBs [count: 79] based on yards per attempt: \n",
      "---> 95.3 <---\n"
     ]
    }
   ],
   "source": [
    "ypa_top25 = df[df['yards_per_attempt'] > ypa_quant[2]]\n",
    "ypa_bot25 = df[df['yards_per_attempt'] < ypa_quant[0]]\n",
    "ypa_top25_mean_games = round(ypa_top25['games_played'].mean(), 1)\n",
    "ypa_top25_median_games = round(ypa_top25['games_played'].median(), 1)\n",
    "ypa_bot25_mean_games = round(ypa_bot25['games_played'].mean(), 1)\n",
    "ypa_bot25_median_games = round(ypa_bot25['games_played'].median(), 1)\n",
    "print('Mean games played, top 25% of QBs [count: {}] based on yards per '\n",
    "      'attempt: \\n---> {} <---'.format(ypa_top25.shape[0],\n",
    "                                       ypa_top25_mean_games))\n",
    "print('Mean games played, bottom 25% of QBs [count: {}] based on yards per '\n",
    "      'attempt: \\n---> {} <---'.format(ypa_bot25.shape[0],\n",
    "                                       ypa_bot25_mean_games))"
   ]
  }
 ],
 "metadata": {
  "kernelspec": {
   "display_name": "Python 3",
   "language": "python",
   "name": "python3"
  },
  "language_info": {
   "codemirror_mode": {
    "name": "ipython",
    "version": 3
   },
   "file_extension": ".py",
   "mimetype": "text/x-python",
   "name": "python",
   "nbconvert_exporter": "python",
   "pygments_lexer": "ipython3",
   "version": "3.7.4"
  }
 },
 "nbformat": 4,
 "nbformat_minor": 2
}
